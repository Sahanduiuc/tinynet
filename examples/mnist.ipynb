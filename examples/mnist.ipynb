{
 "cells": [
  {
   "cell_type": "code",
   "execution_count": 1,
   "metadata": {},
   "outputs": [],
   "source": [
    "import pandas as pd\n",
    "import numpy as np\n",
    "import matplotlib.pyplot as plt\n",
    "%load_ext autoreload\n",
    "\n",
    "import sys\n",
    "sys.path.append(\"..\")"
   ]
  },
  {
   "cell_type": "markdown",
   "metadata": {},
   "source": [
    "### Load data"
   ]
  },
  {
   "cell_type": "code",
   "execution_count": 2,
   "metadata": {},
   "outputs": [
    {
     "data": {
      "text/plain": [
       "((60000, 28, 28), (60000,), (10000, 28, 28), (10000,))"
      ]
     },
     "execution_count": 2,
     "metadata": {},
     "output_type": "execute_result"
    }
   ],
   "source": [
    "import tensorflow as tf\n",
    "mnist = tf.keras.datasets.mnist\n",
    "\n",
    "(X_train, y_train), (X_test, y_test) = mnist.load_data()\n",
    "\n",
    "X_train.shape, y_train.shape, X_test.shape, y_test.shape"
   ]
  },
  {
   "cell_type": "code",
   "execution_count": 3,
   "metadata": {},
   "outputs": [],
   "source": [
    "IMAGE_SIZE = 28\n",
    "NUM_PIXELS = IMAGE_SIZE * IMAGE_SIZE\n",
    "NUM_CLASSES = 10"
   ]
  },
  {
   "cell_type": "code",
   "execution_count": 68,
   "metadata": {},
   "outputs": [
    {
     "name": "stdout",
     "output_type": "stream",
     "text": [
      "9776-th digit:\n"
     ]
    },
    {
     "data": {
      "image/png": "[encoded data removed]",
      "text/plain": [
       "<Figure size 432x288 with 1 Axes>"
      ]
     },
     "metadata": {
      "needs_background": "light"
     },
     "output_type": "display_data"
    }
   ],
   "source": [
    "def plot_random():\n",
    "    i = np.random.randint(X_train.shape[0])\n",
    "    print(\"{0}-th digit:\".format(i))\n",
    "    plt.imshow(X_train[i].reshape(IMAGE_SIZE, IMAGE_SIZE), cmap='binary')\n",
    "    plt.xlabel(\"True: {0}\".format(y_train[i]))\n",
    "    plt.show()\n",
    "    \n",
    "plot_random()"
   ]
  },
  {
   "cell_type": "code",
   "execution_count": 5,
   "metadata": {},
   "outputs": [
    {
     "data": {
      "text/plain": [
       "((10000, 784), (1000, 784))"
      ]
     },
     "execution_count": 5,
     "metadata": {},
     "output_type": "execute_result"
    }
   ],
   "source": [
    "X_train = X_train[:10000]\n",
    "X_test = X_test[:1000]\n",
    "\n",
    "X_train = X_train.reshape(X_train.shape[0], -1)\n",
    "X_test = X_test.reshape(X_test.shape[0], -1)\n",
    "\n",
    "X_train = X_train / 255.\n",
    "X_test = X_test / 255.\n",
    "\n",
    "X_train.shape, X_test.shape"
   ]
  },
  {
   "cell_type": "code",
   "execution_count": 6,
   "metadata": {},
   "outputs": [
    {
     "data": {
      "text/plain": [
       "(10000, 10)"
      ]
     },
     "execution_count": 6,
     "metadata": {},
     "output_type": "execute_result"
    }
   ],
   "source": [
    "from sklearn.preprocessing import OneHotEncoder\n",
    "\n",
    "y_train = y_train[:10000]\n",
    "y_test = y_test[:1000]\n",
    "\n",
    "ohe = OneHotEncoder(categories=[range(10)])\n",
    "Y_train = ohe.fit_transform(y_train.reshape(-1, 1)).toarray()\n",
    "Y_test = ohe.fit_transform(y_test.reshape(-1, 1)).toarray()\n",
    "\n",
    "Y_train.shape"
   ]
  },
  {
   "cell_type": "markdown",
   "metadata": {},
   "source": [
    "### Fit model"
   ]
  },
  {
   "cell_type": "code",
   "execution_count": 7,
   "metadata": {},
   "outputs": [
    {
     "data": {
      "application/vnd.jupyter.widget-view+json": {
       "model_id": "23169492ae93411a8d149348b2e40054",
       "version_major": 2,
       "version_minor": 0
      },
      "text/plain": [
       "HBox(children=(IntProgress(value=0, max=10), HTML(value='')))"
      ]
     },
     "metadata": {},
     "output_type": "display_data"
    },
    {
     "name": "stdout",
     "output_type": "stream",
     "text": [
      "\n"
     ]
    }
   ],
   "source": [
    "%autoreload\n",
    "\n",
    "from src.model import DNN\n",
    "from src.utils.layer import Layer\n",
    "from src.utils import activations\n",
    "\n",
    "dnn = DNN([\n",
    "    Layer(20, activation=activations.ReLU),\n",
    "    Layer(10, activation=activations.ReLU),\n",
    "    Layer(NUM_CLASSES, activation=activations.softmax)\n",
    "], 0.01, 10, mini_batch_size=64)\n",
    "\n",
    "costs = dnn.fit(X_train, Y_train)"
   ]
  },
  {
   "cell_type": "markdown",
   "metadata": {},
   "source": [
    "### Accuracy"
   ]
  },
  {
   "cell_type": "code",
   "execution_count": 8,
   "metadata": {},
   "outputs": [
    {
     "name": "stdout",
     "output_type": "stream",
     "text": [
      "Train: 0.858\n",
      "Test: 0.826\n"
     ]
    }
   ],
   "source": [
    "from sklearn.metrics import accuracy_score\n",
    "decode = lambda x: np.argmax(x, axis=1)\n",
    "\n",
    "y_train_pred = decode(dnn.predict(X_train))\n",
    "print(\"Train:\", accuracy_score(y_train, y_train_pred))\n",
    "y_test_pred = decode(dnn.predict(X_test))\n",
    "print(\"Test:\", accuracy_score(y_test, y_test_pred))"
   ]
  },
  {
   "cell_type": "code",
   "execution_count": 9,
   "metadata": {},
   "outputs": [
    {
     "data": {
      "text/plain": [
       "array([[ 83,   0,   0,   0,   0,   1,   1,   0,   0,   0],\n",
       "       [  0, 123,   2,   0,   0,   1,   0,   0,   0,   0],\n",
       "       [  0,   5,  88,   2,   1,   3,   2,   2,  12,   1],\n",
       "       [  0,   0,   3,  86,   0,  12,   0,   2,   3,   1],\n",
       "       [  0,   0,   0,   0,  89,   1,   2,   0,   0,  18],\n",
       "       [  3,   0,   1,   3,   0,  68,   3,   6,   2,   1],\n",
       "       [  3,   0,   3,   0,   1,   3,  77,   0,   0,   0],\n",
       "       [  0,   4,   1,   1,   1,   1,   0,  77,   6,   8],\n",
       "       [  0,   3,   3,   8,   1,   9,   1,   3,  59,   2],\n",
       "       [  0,   1,   0,   1,   6,   0,   0,   7,   3,  76]])"
      ]
     },
     "execution_count": 9,
     "metadata": {},
     "output_type": "execute_result"
    }
   ],
   "source": [
    "from sklearn.metrics import confusion_matrix\n",
    "\n",
    "confusion_matrix(y_test, y_test_pred)"
   ]
  },
  {
   "cell_type": "code",
   "execution_count": 28,
   "metadata": {},
   "outputs": [
    {
     "name": "stdout",
     "output_type": "stream",
     "text": [
      "175-th digit:\n"
     ]
    },
    {
     "data": {
      "image/png": "[encoded data removed]",
      "text/plain": [
       "<Figure size 432x288 with 1 Axes>"
      ]
     },
     "metadata": {
      "needs_background": "light"
     },
     "output_type": "display_data"
    }
   ],
   "source": [
    "def plot_random_false():\n",
    "    i = np.random.choice(np.where(y_test != y_test_pred)[0])\n",
    "    print(\"{0}-th digit:\".format(i))\n",
    "    plt.imshow(X_test[i].reshape(IMAGE_SIZE, IMAGE_SIZE), cmap='binary')\n",
    "    plt.xlabel(\"True: {0}, Pred: {1}\".format(y_test[i], y_test_pred[i]))\n",
    "    plt.show()\n",
    "    \n",
    "plot_random_false()"
   ]
  },
  {
   "cell_type": "markdown",
   "metadata": {},
   "source": [
    "### Cost"
   ]
  },
  {
   "cell_type": "code",
   "execution_count": 11,
   "metadata": {},
   "outputs": [
    {
     "data": {
      "image/png": "[encoded data removed]",
      "text/plain": [
       "<Figure size 432x288 with 1 Axes>"
      ]
     },
     "metadata": {
      "needs_background": "light"
     },
     "output_type": "display_data"
    }
   ],
   "source": [
    "plt.plot(costs)\n",
    "plt.show()"
   ]
  },
  {
   "cell_type": "code",
   "execution_count": 12,
   "metadata": {},
   "outputs": [
    {
     "name": "stdout",
     "output_type": "stream",
     "text": [
      "mean:   1.0317446713017517\n",
      "std:    0.580700294981628\n",
      "min:    0.23610661264507693\n",
      "max:    2.400495759369095\n",
      "argmin: 1255\n",
      "argmax: 4\n"
     ]
    }
   ],
   "source": [
    "print(\"mean:   {0}\".format(np.mean(costs)))\n",
    "print(\"std:    {0}\".format(np.std(costs)))\n",
    "print(\"min:    {0}\".format(np.min(costs)))\n",
    "print(\"max:    {0}\".format(np.max(costs)))\n",
    "print(\"argmin: {0}\".format(np.argmin(costs)))\n",
    "print(\"argmax: {0}\".format(np.argmax(costs)))"
   ]
  },
  {
   "cell_type": "code",
   "execution_count": null,
   "metadata": {},
   "outputs": [],
   "source": []
  }
 ],
 "metadata": {
  "kernelspec": {
   "display_name": "Python 3",
   "language": "python",
   "name": "python3"
  },
  "language_info": {
   "codemirror_mode": {
    "name": "ipython",
    "version": 3
   },
   "file_extension": ".py",
   "mimetype": "text/x-python",
   "name": "python",
   "nbconvert_exporter": "python",
   "pygments_lexer": "ipython3",
   "version": "3.6.6"
  }
 },
 "nbformat": 4,
 "nbformat_minor": 2
}
