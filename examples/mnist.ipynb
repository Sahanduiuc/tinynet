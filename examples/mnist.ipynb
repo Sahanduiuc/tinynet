{
 "cells": [
  {
   "cell_type": "code",
   "execution_count": 1,
   "metadata": {},
   "outputs": [],
   "source": [
    "import pandas as pd\n",
    "import numpy as np\n",
    "import matplotlib.pyplot as plt\n",
    "%load_ext autoreload\n",
    "\n",
    "import sys\n",
    "sys.path.append(\"..\")"
   ]
  },
  {
   "cell_type": "markdown",
   "metadata": {},
   "source": [
    "### Load data"
   ]
  },
  {
   "cell_type": "code",
   "execution_count": 2,
   "metadata": {},
   "outputs": [
    {
     "data": {
      "text/plain": [
       "((60000, 28, 28), (60000,), (10000, 28, 28), (10000,))"
      ]
     },
     "execution_count": 2,
     "metadata": {},
     "output_type": "execute_result"
    }
   ],
   "source": [
    "import tensorflow as tf\n",
    "mnist = tf.keras.datasets.mnist\n",
    "\n",
    "(X_train, y_train), (X_test, y_test) = mnist.load_data()\n",
    "\n",
    "X_train.shape, y_train.shape, X_test.shape, y_test.shape"
   ]
  },
  {
   "cell_type": "code",
   "execution_count": 3,
   "metadata": {},
   "outputs": [],
   "source": [
    "IMAGE_SIZE = 28\n",
    "NUM_PIXELS = IMAGE_SIZE * IMAGE_SIZE\n",
    "NUM_CLASSES = 10"
   ]
  },
  {
   "cell_type": "code",
   "execution_count": 4,
   "metadata": {},
   "outputs": [
    {
     "name": "stdout",
     "output_type": "stream",
     "text": [
      "36860-th digit:\n"
     ]
    },
    {
     "data": {
      "image/png": "[encoded data removed]",
      "text/plain": [
       "<Figure size 432x288 with 1 Axes>"
      ]
     },
     "metadata": {
      "needs_background": "light"
     },
     "output_type": "display_data"
    }
   ],
   "source": [
    "def plot_random():\n",
    "    i = np.random.randint(X_train.shape[0])\n",
    "    print(\"{0}-th digit:\".format(i))\n",
    "    plt.imshow(X_train[i].reshape(IMAGE_SIZE, IMAGE_SIZE), cmap='binary')\n",
    "    plt.xlabel(\"True: {0}\".format(y_train[i]))\n",
    "    plt.show()\n",
    "    \n",
    "plot_random()"
   ]
  },
  {
   "cell_type": "code",
   "execution_count": 5,
   "metadata": {},
   "outputs": [
    {
     "data": {
      "text/plain": [
       "((2000, 1, 28, 28), (200, 1, 28, 28))"
      ]
     },
     "execution_count": 5,
     "metadata": {},
     "output_type": "execute_result"
    }
   ],
   "source": [
    "X_train = X_train[:2000]\n",
    "X_test = X_test[:200]\n",
    "\n",
    "X_train = X_train.reshape(*X_train.shape, 1).transpose(0, 3, 1, 2)\n",
    "X_test = X_test.reshape(*X_test.shape, 1).transpose(0, 3, 1, 2)\n",
    "\n",
    "X_train = X_train / 255.\n",
    "X_test = X_test / 255.\n",
    "\n",
    "X_train.shape, X_test.shape"
   ]
  },
  {
   "cell_type": "code",
   "execution_count": 6,
   "metadata": {},
   "outputs": [
    {
     "data": {
      "text/plain": [
       "(2000, 10)"
      ]
     },
     "execution_count": 6,
     "metadata": {},
     "output_type": "execute_result"
    }
   ],
   "source": [
    "from sklearn.preprocessing import OneHotEncoder\n",
    "\n",
    "y_train = y_train[:2000]\n",
    "y_test = y_test[:200]\n",
    "\n",
    "ohe = OneHotEncoder(categories=[range(10)])\n",
    "Y_train = ohe.fit_transform(y_train.reshape(-1, 1)).toarray()\n",
    "Y_test = ohe.fit_transform(y_test.reshape(-1, 1)).toarray()\n",
    "\n",
    "Y_train.shape"
   ]
  },
  {
   "cell_type": "markdown",
   "metadata": {},
   "source": [
    "### Fit model"
   ]
  },
  {
   "cell_type": "code",
   "execution_count": 7,
   "metadata": {},
   "outputs": [
    {
     "name": "stdout",
     "output_type": "stream",
     "text": [
      "Layer class    Output shape                Params\n",
      "-------------  ------------------  --------------\n",
      "Conv2D         (None, 32, 26, 26)   320\n",
      "Activation     (None, 32, 26, 26)     0\n",
      "Pool2D         (None, 32, 25, 25)     0\n",
      "Dropout        (None, 32, 25, 25)     0\n",
      "Flatten        (None, 20000)          0\n",
      "Dense          (None, 128)            2.56013e+06\n",
      "Activation     (None, 128)            0\n",
      "Dropout        (None, 128)            0\n",
      "Dense          (None, 10)          1290\n",
      "Activation     (None, 10)             0\n"
     ]
    }
   ],
   "source": [
    "%autoreload\n",
    "\n",
    "from src.model import Sequential\n",
    "from src.layers.flatten import Flatten\n",
    "from src.layers.convolution import Conv2D\n",
    "from src.layers.pooling import Pool2D\n",
    "from src.layers.dense import Dense\n",
    "from src.layers.dropout import Dropout\n",
    "from src.layers.activation import Activation\n",
    "from src import activation_fns\n",
    "from src import cost_fns\n",
    "from src.optimizers import Adam\n",
    "\n",
    "model = Sequential()\n",
    "\n",
    "model.add(Conv2D(32, (3, 3)))\n",
    "model.add(Activation(activation_fns.ReLU))\n",
    "model.add(Pool2D((2, 2)))\n",
    "model.add(Dropout(0.5))\n",
    "model.add(Flatten())\n",
    "model.add(Dense(128))\n",
    "model.add(Activation(activation_fns.ReLU))\n",
    "model.add(Dropout(0.5))\n",
    "model.add(Dense(NUM_CLASSES))\n",
    "model.add(Activation(activation_fns.softmax))\n",
    "\n",
    "model.configure(X_train.shape, Adam(0.01), cost_fns.categorical_crossentropy)\n",
    "model.summary()"
   ]
  },
  {
   "cell_type": "code",
   "execution_count": 8,
   "metadata": {},
   "outputs": [
    {
     "data": {
      "application/vnd.jupyter.widget-view+json": {
       "model_id": "0da63a2f005347f5827c46c3e1ed3f37",
       "version_major": 2,
       "version_minor": 0
      },
      "text/plain": [
       "HBox(children=(IntProgress(value=0, max=375), HTML(value='')))"
      ]
     },
     "metadata": {},
     "output_type": "display_data"
    },
    {
     "name": "stdout",
     "output_type": "stream",
     "text": [
      "\n"
     ]
    }
   ],
   "source": [
    "costs = model.fit(X_train, Y_train, 3, batch_size=16)"
   ]
  },
  {
   "cell_type": "markdown",
   "metadata": {},
   "source": [
    "### Accuracy"
   ]
  },
  {
   "cell_type": "code",
   "execution_count": 9,
   "metadata": {},
   "outputs": [
    {
     "name": "stdout",
     "output_type": "stream",
     "text": [
      "Train: 0.9745\n",
      "Test: 0.94\n"
     ]
    }
   ],
   "source": [
    "from sklearn.metrics import accuracy_score\n",
    "decode = lambda x: np.argmax(x, axis=1)\n",
    "\n",
    "y_train_pred = decode(model.predict(X_train))\n",
    "print(\"Train:\", accuracy_score(y_train, y_train_pred))\n",
    "y_test_pred = decode(model.predict(X_test))\n",
    "print(\"Test:\", accuracy_score(y_test, y_test_pred))"
   ]
  },
  {
   "cell_type": "code",
   "execution_count": 10,
   "metadata": {},
   "outputs": [
    {
     "data": {
      "text/plain": [
       "array([[17,  0,  0,  0,  0,  0,  0,  0,  0,  0],\n",
       "       [ 0, 28,  0,  0,  0,  0,  0,  0,  0,  0],\n",
       "       [ 0,  0, 14,  0,  1,  0,  0,  0,  1,  0],\n",
       "       [ 0,  0,  2, 13,  1,  0,  0,  0,  0,  0],\n",
       "       [ 0,  0,  0,  0, 28,  0,  0,  0,  0,  0],\n",
       "       [ 0,  0,  0,  0,  0, 19,  0,  1,  0,  0],\n",
       "       [ 0,  0,  0,  0,  0,  0, 20,  0,  0,  0],\n",
       "       [ 0,  0,  0,  0,  1,  0,  0, 23,  0,  0],\n",
       "       [ 0,  0,  0,  0,  0,  0,  0,  0, 10,  0],\n",
       "       [ 0,  0,  1,  0,  3,  0,  0,  1,  0, 16]])"
      ]
     },
     "execution_count": 10,
     "metadata": {},
     "output_type": "execute_result"
    }
   ],
   "source": [
    "from sklearn.metrics import confusion_matrix\n",
    "\n",
    "confusion_matrix(y_test, y_test_pred)"
   ]
  },
  {
   "cell_type": "code",
   "execution_count": 11,
   "metadata": {},
   "outputs": [
    {
     "name": "stdout",
     "output_type": "stream",
     "text": [
      "125-th digit:\n"
     ]
    },
    {
     "data": {
      "image/png": "[encoded data removed]",
      "text/plain": [
       "<Figure size 432x288 with 1 Axes>"
      ]
     },
     "metadata": {
      "needs_background": "light"
     },
     "output_type": "display_data"
    }
   ],
   "source": [
    "def plot_random_false():\n",
    "    i = np.random.choice(np.where(y_test != y_test_pred)[0])\n",
    "    print(\"{0}-th digit:\".format(i))\n",
    "    plt.imshow(X_test[i].reshape(IMAGE_SIZE, IMAGE_SIZE), cmap='binary')\n",
    "    plt.xlabel(\"True: {0}, Pred: {1}\".format(y_test[i], y_test_pred[i]))\n",
    "    plt.show()\n",
    "\n",
    "    \n",
    "plot_random_false()"
   ]
  },
  {
   "cell_type": "markdown",
   "metadata": {},
   "source": [
    "### Cost"
   ]
  },
  {
   "cell_type": "code",
   "execution_count": 12,
   "metadata": {},
   "outputs": [
    {
     "data": {
      "image/png": "[encoded data removed]",
      "text/plain": [
       "<Figure size 432x288 with 1 Axes>"
      ]
     },
     "metadata": {
      "needs_background": "light"
     },
     "output_type": "display_data"
    }
   ],
   "source": [
    "plt.plot(costs)\n",
    "plt.show()"
   ]
  },
  {
   "cell_type": "code",
   "execution_count": 13,
   "metadata": {},
   "outputs": [
    {
     "name": "stdout",
     "output_type": "stream",
     "text": [
      "mean:   0.6287333548943939\n",
      "std:    0.5733918309679841\n",
      "min:    0.04279463485505049\n",
      "max:    5.597586117502047\n",
      "argmin: 273\n",
      "argmax: 1\n"
     ]
    }
   ],
   "source": [
    "print(\"mean:   {0}\".format(np.mean(costs)))\n",
    "print(\"std:    {0}\".format(np.std(costs)))\n",
    "print(\"min:    {0}\".format(np.min(costs)))\n",
    "print(\"max:    {0}\".format(np.max(costs)))\n",
    "print(\"argmin: {0}\".format(np.argmin(costs)))\n",
    "print(\"argmax: {0}\".format(np.argmax(costs)))"
   ]
  },
  {
   "cell_type": "code",
   "execution_count": null,
   "metadata": {},
   "outputs": [],
   "source": []
  }
 ],
 "metadata": {
  "kernelspec": {
   "display_name": "Python 3",
   "language": "python",
   "name": "python3"
  },
  "language_info": {
   "codemirror_mode": {
    "name": "ipython",
    "version": 3
   },
   "file_extension": ".py",
   "mimetype": "text/x-python",
   "name": "python",
   "nbconvert_exporter": "python",
   "pygments_lexer": "ipython3",
   "version": "3.6.6"
  }
 },
 "nbformat": 4,
 "nbformat_minor": 2
}
