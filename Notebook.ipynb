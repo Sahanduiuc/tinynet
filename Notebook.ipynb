{
 "cells": [
  {
   "cell_type": "code",
   "execution_count": 1,
   "metadata": {},
   "outputs": [],
   "source": [
    "import pandas as pd\n",
    "import numpy as np\n",
    "import matplotlib.pyplot as plt"
   ]
  },
  {
   "cell_type": "markdown",
   "metadata": {},
   "source": [
    "### Load data"
   ]
  },
  {
   "cell_type": "code",
   "execution_count": 2,
   "metadata": {},
   "outputs": [],
   "source": [
    "import sklearn\n",
    "import sklearn.datasets\n",
    "\n",
    "def load_data():\n",
    "    np.random.seed(0)\n",
    "    train_X, train_Y = sklearn.datasets.make_moons(n_samples=300, noise=.2)\n",
    "    test_X, test_Y = sklearn.datasets.make_moons(n_samples=100, noise=.2)\n",
    "    # Visualize the data\n",
    "    train_X = train_X.T\n",
    "    train_Y = train_Y.reshape((1, train_Y.shape[0]))\n",
    "    test_X = test_X.T\n",
    "    test_Y = test_Y.reshape((1, test_Y.shape[0]))\n",
    "\n",
    "    return train_X, train_Y, test_X, test_Y\n",
    "\n",
    "train_X, train_Y, test_X, test_Y = load_data()"
   ]
  },
  {
   "cell_type": "markdown",
   "metadata": {},
   "source": [
    "### Fit model"
   ]
  },
  {
   "cell_type": "code",
   "execution_count": 4,
   "metadata": {},
   "outputs": [
    {
     "data": {
      "application/vnd.jupyter.widget-view+json": {
       "model_id": "5834adeebe6147329ebd252d22966b89",
       "version_major": 2,
       "version_minor": 0
      },
      "text/plain": [
       "HBox(children=(IntProgress(value=0), HTML(value='')))"
      ]
     },
     "metadata": {},
     "output_type": "display_data"
    },
    {
     "name": "stdout",
     "output_type": "stream",
     "text": [
      "\n"
     ]
    }
   ],
   "source": [
    "from deepnn.model import DeepNN\n",
    "from deepnn.utils.layer import Layer\n",
    "from deepnn.utils import activations\n",
    "from deepnn.utils.op import L2\n",
    "\n",
    "dnn = DeepNN([\n",
    "    Layer(n=7, activation=activations.ReLU),\n",
    "    Layer(n=4, activation=activations.ReLU),\n",
    "    Layer(n=1, activation=activations.sigmoid)\n",
    "], mini_batch_size=64, lr=0.1, num_epochs=100, regularizer=L2(0.5))\n",
    "\n",
    "costs, relative_errors = dnn.fit(train_X, train_Y, gradient_checking=True)"
   ]
  },
  {
   "cell_type": "code",
   "execution_count": 5,
   "metadata": {},
   "outputs": [
    {
     "data": {
      "text/plain": [
       "[(9, 'OK', 6.577798545604915e-11),\n",
       " (19, 'OK', 6.059366278947348e-11),\n",
       " (29, 'OK', 4.0816124356052643e-11),\n",
       " (39, 'OK', 9.391897029457328e-11),\n",
       " (49, 'OK', 3.7690920870602576e-11),\n",
       " (59, 'OK', 9.549346279308577e-11),\n",
       " (69, 'OK', 7.213170369388857e-11),\n",
       " (79, 'OK', 4.657942393499237e-11),\n",
       " (89, 'OK', 5.7841530248010056e-11),\n",
       " (99, 'OK', 2.8732027841516532e-11)]"
      ]
     },
     "execution_count": 5,
     "metadata": {},
     "output_type": "execute_result"
    }
   ],
   "source": [
    "relative_errors"
   ]
  },
  {
   "cell_type": "markdown",
   "metadata": {},
   "source": [
    "### Accuracy"
   ]
  },
  {
   "cell_type": "code",
   "execution_count": 6,
   "metadata": {},
   "outputs": [
    {
     "data": {
      "text/plain": [
       "0.8833333333333333"
      ]
     },
     "execution_count": 6,
     "metadata": {},
     "output_type": "execute_result"
    }
   ],
   "source": [
    "def accuracy(output, Y, threshold=0.5):\n",
    "    m = Y.shape[1]\n",
    "    output = np.array(output, copy=True)\n",
    "    output[output <= threshold] = 0\n",
    "    output[output > threshold] = 1\n",
    "    return np.sum((output == Y) / m)\n",
    "\n",
    "train_output = dnn.predict(train_X)\n",
    "accuracy(train_output, train_Y)"
   ]
  },
  {
   "cell_type": "code",
   "execution_count": 7,
   "metadata": {},
   "outputs": [
    {
     "data": {
      "text/plain": [
       "0.9099999999999999"
      ]
     },
     "execution_count": 7,
     "metadata": {},
     "output_type": "execute_result"
    }
   ],
   "source": [
    "test_output = dnn.predict(test_X)\n",
    "accuracy(test_output, test_Y)"
   ]
  },
  {
   "cell_type": "code",
   "execution_count": 8,
   "metadata": {},
   "outputs": [],
   "source": [
    "def plot_decision_boundary(model, X, Y):\n",
    "    x_min, x_max = X[0, :].min() - 1, X[0, :].max() + 1\n",
    "    y_min, y_max = X[1, :].min() - 1, X[1, :].max() + 1\n",
    "    h = 0.01\n",
    "    xx, yy = np.meshgrid(np.arange(x_min, x_max, h), np.arange(y_min, y_max, h))\n",
    "    Z = model(np.c_[xx.ravel(), yy.ravel()].T)\n",
    "    Z = Z.reshape(xx.shape)\n",
    "    plt.contourf(xx, yy, Z, cmap=plt.cm.Spectral)\n",
    "    plt.ylabel('x2')\n",
    "    plt.xlabel('x1')\n",
    "    plt.scatter(X[0, :], X[1, :], c=np.squeeze(Y), cmap=plt.cm.Spectral)\n",
    "    plt.show()"
   ]
  },
  {
   "cell_type": "code",
   "execution_count": 9,
   "metadata": {},
   "outputs": [
    {
     "data": {
      "image/png": "[encoded data removed]",
      "text/plain": [
       "<Figure size 432x288 with 1 Axes>"
      ]
     },
     "metadata": {},
     "output_type": "display_data"
    }
   ],
   "source": [
    "plot_decision_boundary(dnn.predict, train_X, train_Y)"
   ]
  },
  {
   "cell_type": "markdown",
   "metadata": {},
   "source": [
    "### Cost"
   ]
  },
  {
   "cell_type": "code",
   "execution_count": 10,
   "metadata": {},
   "outputs": [
    {
     "data": {
      "text/html": [
       "<div>\n",
       "<style scoped>\n",
       "    .dataframe tbody tr th:only-of-type {\n",
       "        vertical-align: middle;\n",
       "    }\n",
       "\n",
       "    .dataframe tbody tr th {\n",
       "        vertical-align: top;\n",
       "    }\n",
       "\n",
       "    .dataframe thead th {\n",
       "        text-align: right;\n",
       "    }\n",
       "</style>\n",
       "<table border=\"1\" class=\"dataframe\">\n",
       "  <thead>\n",
       "    <tr style=\"text-align: right;\">\n",
       "      <th></th>\n",
       "      <th>max</th>\n",
       "      <th>argmax</th>\n",
       "      <th>min</th>\n",
       "      <th>argmin</th>\n",
       "      <th>last</th>\n",
       "      <th>mean</th>\n",
       "      <th>std</th>\n",
       "    </tr>\n",
       "  </thead>\n",
       "  <tbody>\n",
       "    <tr>\n",
       "      <th>0</th>\n",
       "      <td>0.900032</td>\n",
       "      <td>2</td>\n",
       "      <td>0.23117</td>\n",
       "      <td>435</td>\n",
       "      <td>0.396775</td>\n",
       "      <td>0.4323</td>\n",
       "      <td>0.094493</td>\n",
       "    </tr>\n",
       "  </tbody>\n",
       "</table>\n",
       "</div>"
      ],
      "text/plain": [
       "        max  argmax      min  argmin      last    mean       std\n",
       "0  0.900032       2  0.23117     435  0.396775  0.4323  0.094493"
      ]
     },
     "execution_count": 10,
     "metadata": {},
     "output_type": "execute_result"
    }
   ],
   "source": [
    "def cost_stats(costs):\n",
    "    return pd.DataFrame([[\n",
    "        np.max(costs),\n",
    "        np.argmax(costs),\n",
    "        np.min(costs),\n",
    "        np.argmin(costs),\n",
    "        costs[-1],\n",
    "        np.mean(costs),\n",
    "        np.std(costs)\n",
    "    ]], columns=['max', 'argmax', 'min', 'argmin', 'last', 'mean', 'std'])\n",
    "\n",
    "cost_stats(costs)"
   ]
  },
  {
   "cell_type": "code",
   "execution_count": 11,
   "metadata": {},
   "outputs": [
    {
     "data": {
      "image/png": "[encoded data removed]",
      "text/plain": [
       "<Figure size 432x288 with 1 Axes>"
      ]
     },
     "metadata": {},
     "output_type": "display_data"
    }
   ],
   "source": [
    "plt.plot(costs)\n",
    "plt.grid(True)\n",
    "plt.show()"
   ]
  },
  {
   "cell_type": "code",
   "execution_count": null,
   "metadata": {},
   "outputs": [],
   "source": []
  }
 ],
 "metadata": {
  "kernelspec": {
   "display_name": "Python 3",
   "language": "python",
   "name": "python3"
  },
  "language_info": {
   "codemirror_mode": {
    "name": "ipython",
    "version": 3
   },
   "file_extension": ".py",
   "mimetype": "text/x-python",
   "name": "python",
   "nbconvert_exporter": "python",
   "pygments_lexer": "ipython3",
   "version": "3.7.0"
  }
 },
 "nbformat": 4,
 "nbformat_minor": 2
}
